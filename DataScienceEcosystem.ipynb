{
  "metadata": {
    "kernelspec": {
      "name": "python",
      "display_name": "Python (Pyodide)",
      "language": "python"
    },
    "language_info": {
      "codemirror_mode": {
        "name": "python",
        "version": 3
      },
      "file_extension": ".py",
      "mimetype": "text/x-python",
      "name": "python",
      "nbconvert_exporter": "python",
      "pygments_lexer": "ipython3",
      "version": "3.8"
    }
  },
  "nbformat_minor": 4,
  "nbformat": 4,
  "cells": [
    {
      "cell_type": "markdown",
      "source": "# Data Science Tools and Ecosystem",
      "metadata": {}
    },
    {
      "cell_type": "markdown",
      "source": "In this notebook, Data Science Tools and Ecosystem are summarized.",
      "metadata": {}
    },
    {
      "cell_type": "markdown",
      "source": "Some of the popular languages that Data Scientists use are:\n1. Python\n2. R\n3. SQL\n4. Julia\n5. Scala",
      "metadata": {}
    },
    {
      "cell_type": "markdown",
      "source": "Some of the commonly used libraries used by Data Scientists include:\n1. Panda\n2. NumPy\n3. Matplotlib\n4. SciPy\n5. PyTorch",
      "metadata": {}
    },
    {
      "cell_type": "markdown",
      "source": "| Data Science Tools |\n|--------|\n| Jupyter Notebooks |\n| RStudio |\n| VStudio |\n",
      "metadata": {}
    },
    {
      "cell_type": "markdown",
      "source": "### Below are a few examples of evaluating arithmetic expressions in Python\n- sum = 3 + 4\n- sub = 4 - 3\n- div = 10 / 2",
      "metadata": {}
    },
    {
      "cell_type": "code",
      "source": "x = (3*4)+5\n# This a simple arithmetic expression to mutiply then add integers\nprint (x)",
      "metadata": {
        "trusted": true
      },
      "outputs": [
        {
          "name": "stdout",
          "text": "17\n",
          "output_type": "stream"
        }
      ],
      "execution_count": 9
    },
    {
      "cell_type": "code",
      "source": "Mh = 200/60\n# This will convert 200 minutes to hours by diving by 60\nprint (Mh)",
      "metadata": {
        "trusted": true
      },
      "outputs": [
        {
          "name": "stdout",
          "text": "3.3333333333333335\n",
          "output_type": "stream"
        }
      ],
      "execution_count": 10
    },
    {
      "cell_type": "markdown",
      "source": "**Objectives**\n\n  Python\n- Extensive Data Science Libraries\n- Versatility and Integration\n- Easy to Learn and Simple Syntax\n  \n  R\n- Powerful Statistical and Visualization Packages\n- Focus on Statistical Analysis and Modeling\n- Interactive Environment and Reproducibility (RStudio)\n  \n  SQL\n- Efficient Data Management and Querying\n- Optimized for Large-Scale Data Processing\n- Easy Integration with Other Tools and Languages",
      "metadata": {}
    },
    {
      "cell_type": "markdown",
      "source": "## Author\nLeonardo Sena",
      "metadata": {}
    },
    {
      "cell_type": "code",
      "source": "",
      "metadata": {
        "trusted": true
      },
      "outputs": [],
      "execution_count": null
    }
  ]
}